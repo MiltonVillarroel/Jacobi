{
  "nbformat": 4,
  "nbformat_minor": 0,
  "metadata": {
    "colab": {
      "provenance": [],
      "authorship_tag": "ABX9TyPM+qhxxQuDZkKstyVDtD8Q",
      "include_colab_link": true
    },
    "kernelspec": {
      "name": "python3",
      "display_name": "Python 3"
    },
    "language_info": {
      "name": "python"
    }
  },
  "cells": [
    {
      "cell_type": "markdown",
      "metadata": {
        "id": "view-in-github",
        "colab_type": "text"
      },
      "source": [
        "<a href=\"https://colab.research.google.com/github/MiltonVillarroel/Jacobi/blob/main/JACOBI.ipynb\" target=\"_parent\"><img src=\"https://colab.research.google.com/assets/colab-badge.svg\" alt=\"Open In Colab\"/></a>"
      ]
    },
    {
      "cell_type": "markdown",
      "source": [
        "#RESOLUCIÓN DE SISTEMA DE ECUACIONES POR EL MÉTODO DE JACOBI\n",
        "1. $0.52x + 0.2y + 0.25z = 4800$\n",
        "2. $0.3x + 0.5y + 0.2z = 5810$\n",
        "3. $0.25x + 0.2y + 0.55z = 5690$"
      ],
      "metadata": {
        "id": "SRvEZGWbpm2i"
      }
    },
    {
      "cell_type": "code",
      "source": [
        "import numpy as np"
      ],
      "metadata": {
        "id": "GZpKpZfOV3zY"
      },
      "execution_count": 8,
      "outputs": []
    },
    {
      "cell_type": "code",
      "source": [
        "A=np.array([[0.52,0.2,0.25],[0.3,0.5,0.2],[0.25,0.2,0.55]])"
      ],
      "metadata": {
        "id": "2x55-7esWIF1"
      },
      "execution_count": 9,
      "outputs": []
    },
    {
      "cell_type": "markdown",
      "source": [
        "## PASO 1 - VERIFICAR DIAGONAL PREDOMINANTE\n",
        "\n",
        "En álgebra lineal, una matriz tiene diagonal dominante si, en cada fila, el valor absoluto del elemento en la diagonal principal es mayor o igual que la suma de los valores absolutos de los demás elementos de esa fila. Esto se expresa matemáticamente como:\n",
        "\n",
        "$|a_{ii}| \\geq \\sum_{j \\neq i} |a_{ij}|$\n",
        "\n",
        "para cada fila 𝑖\n",
        "i.\n",
        "Una matriz diagonal dominante tiene importancia en la resolución de sistemas de ecuaciones lineales, especialmente en métodos iterativos como Gauss-Seidel.\n",
        "\n",
        "Si en un renglón no se puede verificar esta expresión, el resultado correspondiente a la variable en cuestión no será convergente"
      ],
      "metadata": {
        "id": "3oUuMs7IV1Qr"
      }
    },
    {
      "cell_type": "code",
      "source": [
        "def esDiagonalDominate(matriz):\n",
        "    n=matriz.shape[0]\n",
        "    for i in range(n):\n",
        "        suma=0\n",
        "        for j in range(n):\n",
        "            if(i!=j):\n",
        "                suma+=abs(matriz[i][j])\n",
        "        if(abs(matriz[i][i])<suma):\n",
        "            return False\n",
        "    return True\n"
      ],
      "metadata": {
        "id": "wMmnkgV3XgcD"
      },
      "execution_count": 10,
      "outputs": []
    },
    {
      "cell_type": "code",
      "source": [
        "print(esDiagonalDominate(A))"
      ],
      "metadata": {
        "colab": {
          "base_uri": "https://localhost:8080/"
        },
        "id": "rg4M90C5YgNK",
        "outputId": "9e98761c-9664-4d0a-a051-ee7a875bc394"
      },
      "execution_count": 11,
      "outputs": [
        {
          "output_type": "stream",
          "name": "stdout",
          "text": [
            "True\n"
          ]
        }
      ]
    },
    {
      "cell_type": "markdown",
      "source": [
        "\n",
        "## PASO 2 - DESPEJAR LOS ELEMENTOS DE LA DIAGONAL\n",
        "\n",
        "1. $0.52x + 0.2y + 0.25z = 4800$\n",
        "2. $0.3x + 0.5y + 0.2z = 5810$\n",
        "3. $0.25x + 0.2y + 0.55z = 5690$\n",
        "\n",
        "SE DEBEN DESPEJAR LOS ELEMENTOS DE LA DIAGONAL\n",
        "\n",
        "\n",
        "1. $x=\\frac{4800-0.2y-0.25z}{0.52}$\n",
        "2. $y=\\frac{5810-0.3x-0.2z}{0.5}$\n",
        "3. $z=\\frac{5690-0.25x-0.2y}{0.55}$\n"
      ],
      "metadata": {
        "id": "fpuEJRF3JXir"
      }
    },
    {
      "cell_type": "markdown",
      "source": [],
      "metadata": {
        "id": "xBTG5MBYZX9z"
      }
    },
    {
      "cell_type": "code",
      "source": [
        "import sympy as sp"
      ],
      "metadata": {
        "id": "F88FN8beqMjd"
      },
      "execution_count": 12,
      "outputs": []
    },
    {
      "cell_type": "code",
      "source": [
        "x,y,z=sp.symbols('x y z')\n",
        "ecuacion1=0.52*x+0.2*y+0.25*z-4800\n",
        "ecuacion2=0.3*x+0.5*y+0.2*z-5810\n",
        "ecuacion3=0.25*x+0.2*y+0.55*z-5690\n",
        "\n",
        "ecuacion1=sp.solve(ecuacion1,x)[0]\n",
        "ecuacion2=sp.solve(ecuacion2,y)[0]\n",
        "ecuacion3=sp.solve(ecuacion3,z)[0]\n",
        "\n",
        "print(ecuacion1)\n",
        "print(ecuacion2)\n",
        "print(ecuacion3)"
      ],
      "metadata": {
        "colab": {
          "base_uri": "https://localhost:8080/"
        },
        "id": "HKDwhQpqb9Kq",
        "outputId": "55df5d6b-1b30-43e2-bc9f-115c811631b8"
      },
      "execution_count": 19,
      "outputs": [
        {
          "output_type": "stream",
          "name": "stdout",
          "text": [
            "-0.384615384615385*y - 0.480769230769231*z + 9230.76923076923\n",
            "-0.6*x - 0.4*z + 11620.0\n",
            "-0.454545454545455*x - 0.363636363636364*y + 10345.4545454545\n"
          ]
        }
      ]
    },
    {
      "cell_type": "markdown",
      "source": [
        "## PASO 3 - INDICADOR DE CONVERGENCIA $α$\n",
        "Se debe encontrar un valor alfa ($α$) para cada fila. El valor de alfa esta dado por la suma de los valores absolutos de los elementos distintos al elemento de la diagonal\n",
        "\n",
        "$α_i = \\sum_{j \\neq i} |a_{ij}|$\n",
        "\n",
        "Posteriormente se debe escoger el alfa mayor, si es menor o igual a 1 el sistema converge, caso contrario puede o no converger en muchas iteraciones\n"
      ],
      "metadata": {
        "id": "GQnJ7GALc2B2"
      }
    },
    {
      "cell_type": "code",
      "source": [
        "def alfa(matriz):\n",
        "  n=matriz.shape[0]\n",
        "  mayor=0\n",
        "  for i in range(n):\n",
        "    suma=0\n",
        "    for j in range(n):\n",
        "      if(i!=j):\n",
        "        suma+=abs(matriz[i][j])\n",
        "    if(mayor<suma):\n",
        "      mayor=suma\n",
        "  return mayor\n"
      ],
      "metadata": {
        "id": "ra-6yTUxenQR"
      },
      "execution_count": 14,
      "outputs": []
    },
    {
      "cell_type": "code",
      "source": [
        "print(alfa(A))"
      ],
      "metadata": {
        "colab": {
          "base_uri": "https://localhost:8080/"
        },
        "id": "6V9rUAz_fWXi",
        "outputId": "5c7c7a8d-5798-4ebd-bf3f-cee3dc4251be"
      },
      "execution_count": 15,
      "outputs": [
        {
          "output_type": "stream",
          "name": "stdout",
          "text": [
            "0.5\n"
          ]
        }
      ]
    },
    {
      "cell_type": "markdown",
      "source": [
        "## PASO 4 - EVALUACIÓN ITERATIVA HASTA OBTENER EL ERROR TOLERADO\n",
        "Se deben evaluar iterativamente las ecuaciones despejadas con los valores de una iteracion anterior hasta obtener un error igual o menor al aceptado"
      ],
      "metadata": {
        "id": "JIK8HDGzfiYc"
      }
    },
    {
      "cell_type": "code",
      "source": [
        "errorTolerado=0.001\n",
        "c=0\n",
        "xAnterior=0\n",
        "yAnterior=0\n",
        "zAnterior=0\n",
        "while(True):\n",
        "  xActual=ecuacion1.subs({y: yAnterior, z: zAnterior})\n",
        "  yActual=ecuacion2.subs({x: xAnterior, z: zAnterior})\n",
        "  zActual=ecuacion3.subs({x: xAnterior, y: yAnterior})\n",
        "  error=max(abs(xActual-xAnterior),abs(yActual-yAnterior),abs(zActual-zAnterior))\n",
        "  # print(\"Iteracion:\",c,\"Error =\",error,\"\\nx=\",xActual,\"\\ny=\",yActual,\"\\nz=\",zActual)\n",
        "  if(error<=errorTolerado):\n",
        "    break\n",
        "  c+=1\n",
        "  xAnterior=xActual\n",
        "  yAnterior=yActual\n",
        "  zAnterior=zActual\n",
        "\n",
        "print(\"Iteracion:\",c,\"Error =\",error,\"\\nx=\",xActual,\"\\ny=\",yActual,\"\\nz=\",zActual)\n",
        "\n",
        "\n",
        "\n"
      ],
      "metadata": {
        "colab": {
          "base_uri": "https://localhost:8080/"
        },
        "id": "l_JLli1yga0A",
        "outputId": "e9a777bd-9796-4dd7-f1a9-cfe1161ac7b0"
      },
      "execution_count": 42,
      "outputs": [
        {
          "output_type": "stream",
          "name": "stdout",
          "text": [
            "Iteracion: 139 Error = 0.000962705245001416 \n",
            "x= 3565.40043482087 \n",
            "y= 7010.54806999226 \n",
            "z= 6175.52703186613\n"
          ]
        }
      ]
    }
  ]
}